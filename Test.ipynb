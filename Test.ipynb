{
 "cells": [
  {
   "cell_type": "code",
   "execution_count": 130,
   "id": "693aa276",
   "metadata": {},
   "outputs": [],
   "source": [
    "import numpy as np\n",
    "import pandas as pd\n",
    "import os"
   ]
  },
  {
   "cell_type": "code",
   "execution_count": 116,
   "id": "f18d1664",
   "metadata": {},
   "outputs": [],
   "source": [
    "data_dir = \"data/\"\n",
    "\n",
    "data = list()\n",
    "\n",
    "for filename in os.listdir(data_dir):\n",
    "    file = os.path.join(data_dir, filename)\n",
    "    data.append(np.loadtxt(file))"
   ]
  },
  {
   "cell_type": "code",
   "execution_count": 117,
   "id": "1d402fa4",
   "metadata": {},
   "outputs": [],
   "source": [
    "for i in range(len(data)):\n",
    "    data[i][:, 0] = data[i][:, 0] + (i * 538)"
   ]
  },
  {
   "cell_type": "code",
   "execution_count": 118,
   "id": "3d140877",
   "metadata": {},
   "outputs": [
    {
     "name": "stdout",
     "output_type": "stream",
     "text": [
      "537.0\n",
      "1075.0\n",
      "1613.0\n",
      "2151.0\n",
      "2689.0\n",
      "3227.0\n",
      "3765.0\n",
      "4303.0\n",
      "4841.0\n",
      "5379.0\n"
     ]
    }
   ],
   "source": [
    "for i in range(len(data)):\n",
    "    print(data[i][:, 0][-1])"
   ]
  },
  {
   "cell_type": "code",
   "execution_count": 119,
   "id": "b83599c5",
   "metadata": {},
   "outputs": [],
   "source": [
    "merged = data[0]"
   ]
  },
  {
   "cell_type": "code",
   "execution_count": 120,
   "id": "86f0788b",
   "metadata": {},
   "outputs": [],
   "source": [
    "for file_input in data[1:]:\n",
    "    merged = np.concatenate((merged, file_input))"
   ]
  },
  {
   "cell_type": "code",
   "execution_count": 131,
   "id": "9509722a",
   "metadata": {},
   "outputs": [],
   "source": [
    "df_global = pd.DataFrame(merged)"
   ]
  },
  {
   "cell_type": "code",
   "execution_count": 137,
   "id": "cc0a97c6",
   "metadata": {},
   "outputs": [],
   "source": [
    "df_global[[0, 1]] = df_global[[0, 1]].astypeype(int)"
   ]
  },
  {
   "cell_type": "code",
   "execution_count": 141,
   "id": "7c88c8f9",
   "metadata": {},
   "outputs": [],
   "source": [
    "df_global = df_global.sort_values([1, 0], ascending=(True, True))"
   ]
  },
  {
   "cell_type": "code",
   "execution_count": 142,
   "id": "322eab47",
   "metadata": {},
   "outputs": [
    {
     "data": {
      "text/html": [
       "<div>\n",
       "<style scoped>\n",
       "    .dataframe tbody tr th:only-of-type {\n",
       "        vertical-align: middle;\n",
       "    }\n",
       "\n",
       "    .dataframe tbody tr th {\n",
       "        vertical-align: top;\n",
       "    }\n",
       "\n",
       "    .dataframe thead th {\n",
       "        text-align: right;\n",
       "    }\n",
       "</style>\n",
       "<table border=\"1\" class=\"dataframe\">\n",
       "  <thead>\n",
       "    <tr style=\"text-align: right;\">\n",
       "      <th></th>\n",
       "      <th>0</th>\n",
       "      <th>1</th>\n",
       "      <th>2</th>\n",
       "      <th>3</th>\n",
       "      <th>4</th>\n",
       "      <th>5</th>\n",
       "      <th>6</th>\n",
       "      <th>7</th>\n",
       "    </tr>\n",
       "  </thead>\n",
       "  <tbody>\n",
       "    <tr>\n",
       "      <th>5940</th>\n",
       "      <td>12</td>\n",
       "      <td>0</td>\n",
       "      <td>3.2141</td>\n",
       "      <td>0.6925</td>\n",
       "      <td>66.8928</td>\n",
       "      <td>255.0</td>\n",
       "      <td>255.0</td>\n",
       "      <td>255.0</td>\n",
       "    </tr>\n",
       "    <tr>\n",
       "      <th>6437</th>\n",
       "      <td>13</td>\n",
       "      <td>0</td>\n",
       "      <td>3.5502</td>\n",
       "      <td>0.6937</td>\n",
       "      <td>66.8767</td>\n",
       "      <td>255.0</td>\n",
       "      <td>255.0</td>\n",
       "      <td>255.0</td>\n",
       "    </tr>\n",
       "    <tr>\n",
       "      <th>6934</th>\n",
       "      <td>14</td>\n",
       "      <td>0</td>\n",
       "      <td>3.8862</td>\n",
       "      <td>0.6949</td>\n",
       "      <td>66.8576</td>\n",
       "      <td>255.0</td>\n",
       "      <td>255.0</td>\n",
       "      <td>255.0</td>\n",
       "    </tr>\n",
       "    <tr>\n",
       "      <th>7431</th>\n",
       "      <td>15</td>\n",
       "      <td>0</td>\n",
       "      <td>4.2221</td>\n",
       "      <td>0.6961</td>\n",
       "      <td>66.8369</td>\n",
       "      <td>255.0</td>\n",
       "      <td>255.0</td>\n",
       "      <td>255.0</td>\n",
       "    </tr>\n",
       "    <tr>\n",
       "      <th>7928</th>\n",
       "      <td>16</td>\n",
       "      <td>0</td>\n",
       "      <td>4.5580</td>\n",
       "      <td>0.6972</td>\n",
       "      <td>66.8164</td>\n",
       "      <td>255.0</td>\n",
       "      <td>255.0</td>\n",
       "      <td>255.0</td>\n",
       "    </tr>\n",
       "    <tr>\n",
       "      <th>...</th>\n",
       "      <td>...</td>\n",
       "      <td>...</td>\n",
       "      <td>...</td>\n",
       "      <td>...</td>\n",
       "      <td>...</td>\n",
       "      <td>...</td>\n",
       "      <td>...</td>\n",
       "      <td>...</td>\n",
       "    </tr>\n",
       "    <tr>\n",
       "      <th>1979640</th>\n",
       "      <td>5375</td>\n",
       "      <td>499</td>\n",
       "      <td>-0.1016</td>\n",
       "      <td>-0.0029</td>\n",
       "      <td>-0.2144</td>\n",
       "      <td>114.0</td>\n",
       "      <td>114.0</td>\n",
       "      <td>114.0</td>\n",
       "    </tr>\n",
       "    <tr>\n",
       "      <th>1980136</th>\n",
       "      <td>5376</td>\n",
       "      <td>499</td>\n",
       "      <td>-0.1022</td>\n",
       "      <td>-0.0030</td>\n",
       "      <td>-0.2184</td>\n",
       "      <td>86.0</td>\n",
       "      <td>86.0</td>\n",
       "      <td>86.0</td>\n",
       "    </tr>\n",
       "    <tr>\n",
       "      <th>1980586</th>\n",
       "      <td>5377</td>\n",
       "      <td>499</td>\n",
       "      <td>-0.1046</td>\n",
       "      <td>-0.0031</td>\n",
       "      <td>-0.2265</td>\n",
       "      <td>112.0</td>\n",
       "      <td>112.0</td>\n",
       "      <td>112.0</td>\n",
       "    </tr>\n",
       "    <tr>\n",
       "      <th>1981046</th>\n",
       "      <td>5378</td>\n",
       "      <td>499</td>\n",
       "      <td>-0.1072</td>\n",
       "      <td>-0.0032</td>\n",
       "      <td>-0.2353</td>\n",
       "      <td>192.0</td>\n",
       "      <td>192.0</td>\n",
       "      <td>192.0</td>\n",
       "    </tr>\n",
       "    <tr>\n",
       "      <th>1981442</th>\n",
       "      <td>5379</td>\n",
       "      <td>499</td>\n",
       "      <td>-0.1057</td>\n",
       "      <td>-0.0032</td>\n",
       "      <td>-0.2351</td>\n",
       "      <td>212.0</td>\n",
       "      <td>212.0</td>\n",
       "      <td>212.0</td>\n",
       "    </tr>\n",
       "  </tbody>\n",
       "</table>\n",
       "<p>1981443 rows × 8 columns</p>\n",
       "</div>"
      ],
      "text/plain": [
       "            0    1       2       3        4      5      6      7\n",
       "5940       12    0  3.2141  0.6925  66.8928  255.0  255.0  255.0\n",
       "6437       13    0  3.5502  0.6937  66.8767  255.0  255.0  255.0\n",
       "6934       14    0  3.8862  0.6949  66.8576  255.0  255.0  255.0\n",
       "7431       15    0  4.2221  0.6961  66.8369  255.0  255.0  255.0\n",
       "7928       16    0  4.5580  0.6972  66.8164  255.0  255.0  255.0\n",
       "...       ...  ...     ...     ...      ...    ...    ...    ...\n",
       "1979640  5375  499 -0.1016 -0.0029  -0.2144  114.0  114.0  114.0\n",
       "1980136  5376  499 -0.1022 -0.0030  -0.2184   86.0   86.0   86.0\n",
       "1980586  5377  499 -0.1046 -0.0031  -0.2265  112.0  112.0  112.0\n",
       "1981046  5378  499 -0.1072 -0.0032  -0.2353  192.0  192.0  192.0\n",
       "1981442  5379  499 -0.1057 -0.0032  -0.2351  212.0  212.0  212.0\n",
       "\n",
       "[1981443 rows x 8 columns]"
      ]
     },
     "execution_count": 142,
     "metadata": {},
     "output_type": "execute_result"
    }
   ],
   "source": [
    "df_global"
   ]
  },
  {
   "cell_type": "code",
   "execution_count": null,
   "id": "d2009b9a",
   "metadata": {},
   "outputs": [],
   "source": []
  }
 ],
 "metadata": {
  "kernelspec": {
   "display_name": "Python 3",
   "language": "python",
   "name": "python3"
  },
  "language_info": {
   "codemirror_mode": {
    "name": "ipython",
    "version": 3
   },
   "file_extension": ".py",
   "mimetype": "text/x-python",
   "name": "python",
   "nbconvert_exporter": "python",
   "pygments_lexer": "ipython3",
   "version": "3.8.8"
  }
 },
 "nbformat": 4,
 "nbformat_minor": 5
}
